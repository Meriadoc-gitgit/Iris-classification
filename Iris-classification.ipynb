{
 "cells": [
  {
   "cell_type": "code",
   "execution_count": 1,
   "id": "e598763e",
   "metadata": {},
   "outputs": [],
   "source": [
    "# Import libraries\n",
    "import numpy as np\n",
    "import pandas as pd\n",
    "import matplotlib.pyplot as plt \n",
    "%matplotlib inline"
   ]
  },
  {
   "cell_type": "code",
   "execution_count": 38,
   "id": "9f2a877e",
   "metadata": {},
   "outputs": [],
   "source": [
    "class Iris: \n",
    "    def __init__(self, main_df): \n",
    "        df = pd.read_csv(main_df)\n",
    "        self.sepal = df[[\"sepallength\",\"sepalwidth\"]].to_numpy()\n",
    "        self.petal = df[[\"petallength\",\"petalwidth\"]].to_numpy()\n",
    "        self._class = df[\"class\"].to_numpy()\n",
    "\n",
    "Iris = Iris(\"data-iris.csv\")"
   ]
  },
  {
   "cell_type": "code",
   "execution_count": 59,
   "id": "7aa55ddf",
   "metadata": {},
   "outputs": [],
   "source": [
    "class Classification: \n",
    "\n",
    "    @staticmethod\n",
    "    def classe_majoritaire(df): \n",
    "        \n",
    "        dr = dict()\n",
    "        for i in range(len(df)): \n",
    "            if df[i] in dr : \n",
    "                dr[df[i]]+=1\n",
    "            else : \n",
    "                dr[df[i]]=1\n",
    "        \n",
    "        li = [v for k,v in dr.items()]\n",
    "        for k,v in dr.items(): \n",
    "            if v==max(li): return k\n",
    "            \n",
    "    def classifie_kppv(k,mDesc,mClass,x):\n",
    "        tabDr = np.argsort(\n",
    "            [np.sqrt((mDesc[i][0]-x[0])**2)+(mDesc[i][1]-x[1])**2\n",
    "            for i in range(len(mDesc))])\n",
    "        tmp=[]\n",
    "        for i in range(k):\n",
    "            tmp.append(mClass[tabDr[i]])\n",
    "        return Classification.classe_majoritaire(tmp)"
   ]
  },
  {
   "cell_type": "code",
   "execution_count": 71,
   "id": "9d763258",
   "metadata": {},
   "outputs": [
    {
     "data": {
      "text/plain": [
       "'Iris-versicolor'"
      ]
     },
     "execution_count": 71,
     "metadata": {},
     "output_type": "execute_result"
    }
   ],
   "source": [
    "Classification.classifie_kppv(3,Iris.sepal,Iris._class,np.array([6,2]))"
   ]
  },
  {
   "cell_type": "code",
   "execution_count": null,
   "id": "05a2e0f7",
   "metadata": {},
   "outputs": [],
   "source": []
  },
  {
   "cell_type": "code",
   "execution_count": null,
   "id": "b1004b5a",
   "metadata": {},
   "outputs": [],
   "source": []
  }
 ],
 "metadata": {
  "kernelspec": {
   "display_name": "Python 3 (ipykernel)",
   "language": "python",
   "name": "python3"
  },
  "language_info": {
   "codemirror_mode": {
    "name": "ipython",
    "version": 3
   },
   "file_extension": ".py",
   "mimetype": "text/x-python",
   "name": "python",
   "nbconvert_exporter": "python",
   "pygments_lexer": "ipython3",
   "version": "3.9.7"
  }
 },
 "nbformat": 4,
 "nbformat_minor": 5
}
